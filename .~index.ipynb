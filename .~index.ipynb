{
 "cells": [
  {
   "cell_type": "markdown",
   "metadata": {},
   "source": [
    "# Multicollinearity of Features - Lab"
   ]
  },
  {
   "cell_type": "markdown",
   "metadata": {},
   "source": [
    "## Introduction\n",
    "\n",
    "In this lab you'll identify multicollinearity in the Boston Housing Data set."
   ]
  },
  {
   "cell_type": "markdown",
   "metadata": {},
   "source": [
    "## Objectives\n",
    "You will be able to:\n",
    "* Plot heatmaps for the predictors of the Boston dataset\n",
    "* Understand and calculate correlation matrices"
   ]
  },
  {
   "cell_type": "markdown",
   "metadata": {},
   "source": [
    "## Correlation matrix for the Boston Housing data"
   ]
  },
  {
   "cell_type": "markdown",
   "metadata": {},
   "source": [
    "Let's reimport the Boston Housing data and let's use the data with the categorical variables for `tax_dummy` and `rad_dummy`"
   ]
  },
  {
   "cell_type": "code",
   "execution_count": 1,
   "metadata": {},
   "outputs": [],
   "source": [
    "import pandas as pd\n",
    "from sklearn.datasets import load_boston\n",
    "boston = load_boston()\n",
    "\n",
    "boston_features = pd.DataFrame(boston.data, columns = boston.feature_names)\n",
    "\n",
    "# first, create bins for based on the values observed. 5 values will result in 4 bins\n",
    "bins = [0, 3, 4 , 5, 24]\n",
    "bins_rad = pd.cut(boston_features['RAD'], bins)\n",
    "bins_rad = bins_rad.cat.as_unordered()\n",
    "\n",
    "# first, create bins for based on the values observed. 5 values will result in 4 bins\n",
    "bins = [0, 250, 300, 360, 460, 712]\n",
    "bins_tax = pd.cut(boston_features['TAX'], bins)\n",
    "bins_tax = bins_tax.cat.as_unordered()\n",
    "\n",
    "tax_dummy = pd.get_dummies(bins_tax, prefix=\"TAX\")\n",
    "rad_dummy = pd.get_dummies(bins_rad, prefix=\"RAD\")\n",
    "boston_features = boston_features.drop([\"RAD\",\"TAX\"], axis=1)\n",
    "boston_features = pd.concat([boston_features, rad_dummy, tax_dummy], axis=1)"
   ]
  },
  {
   "cell_type": "code",
   "execution_count": 2,
   "metadata": {},
   "outputs": [
    {
     "data": {
      "text/html": [
       "<div>\n",
       "<style scoped>\n",
       "    .dataframe tbody tr th:only-of-type {\n",
       "        vertical-align: middle;\n",
       "    }\n",
       "\n",
       "    .dataframe tbody tr th {\n",
       "        vertical-align: top;\n",
       "    }\n",
       "\n",
       "    .dataframe thead th {\n",
       "        text-align: right;\n",
       "    }\n",
       "</style>\n",
       "<table border=\"1\" class=\"dataframe\">\n",
       "  <thead>\n",
       "    <tr style=\"text-align: right;\">\n",
       "      <th></th>\n",
       "      <th>CRIM</th>\n",
       "      <th>ZN</th>\n",
       "      <th>INDUS</th>\n",
       "      <th>CHAS</th>\n",
       "      <th>NOX</th>\n",
       "      <th>RM</th>\n",
       "      <th>AGE</th>\n",
       "      <th>DIS</th>\n",
       "      <th>PTRATIO</th>\n",
       "      <th>B</th>\n",
       "      <th>LSTAT</th>\n",
       "      <th>RAD_(0, 3]</th>\n",
       "      <th>RAD_(3, 4]</th>\n",
       "      <th>RAD_(4, 5]</th>\n",
       "      <th>RAD_(5, 24]</th>\n",
       "      <th>TAX_(0, 250]</th>\n",
       "      <th>TAX_(250, 300]</th>\n",
       "      <th>TAX_(300, 360]</th>\n",
       "      <th>TAX_(360, 460]</th>\n",
       "      <th>TAX_(460, 712]</th>\n",
       "    </tr>\n",
       "  </thead>\n",
       "  <tbody>\n",
       "    <tr>\n",
       "      <th>0</th>\n",
       "      <td>0.00632</td>\n",
       "      <td>18.0</td>\n",
       "      <td>2.31</td>\n",
       "      <td>0.0</td>\n",
       "      <td>0.538</td>\n",
       "      <td>6.575</td>\n",
       "      <td>65.2</td>\n",
       "      <td>4.0900</td>\n",
       "      <td>15.3</td>\n",
       "      <td>396.90</td>\n",
       "      <td>4.98</td>\n",
       "      <td>1</td>\n",
       "      <td>0</td>\n",
       "      <td>0</td>\n",
       "      <td>0</td>\n",
       "      <td>0</td>\n",
       "      <td>1</td>\n",
       "      <td>0</td>\n",
       "      <td>0</td>\n",
       "      <td>0</td>\n",
       "    </tr>\n",
       "    <tr>\n",
       "      <th>1</th>\n",
       "      <td>0.02731</td>\n",
       "      <td>0.0</td>\n",
       "      <td>7.07</td>\n",
       "      <td>0.0</td>\n",
       "      <td>0.469</td>\n",
       "      <td>6.421</td>\n",
       "      <td>78.9</td>\n",
       "      <td>4.9671</td>\n",
       "      <td>17.8</td>\n",
       "      <td>396.90</td>\n",
       "      <td>9.14</td>\n",
       "      <td>1</td>\n",
       "      <td>0</td>\n",
       "      <td>0</td>\n",
       "      <td>0</td>\n",
       "      <td>1</td>\n",
       "      <td>0</td>\n",
       "      <td>0</td>\n",
       "      <td>0</td>\n",
       "      <td>0</td>\n",
       "    </tr>\n",
       "    <tr>\n",
       "      <th>2</th>\n",
       "      <td>0.02729</td>\n",
       "      <td>0.0</td>\n",
       "      <td>7.07</td>\n",
       "      <td>0.0</td>\n",
       "      <td>0.469</td>\n",
       "      <td>7.185</td>\n",
       "      <td>61.1</td>\n",
       "      <td>4.9671</td>\n",
       "      <td>17.8</td>\n",
       "      <td>392.83</td>\n",
       "      <td>4.03</td>\n",
       "      <td>1</td>\n",
       "      <td>0</td>\n",
       "      <td>0</td>\n",
       "      <td>0</td>\n",
       "      <td>1</td>\n",
       "      <td>0</td>\n",
       "      <td>0</td>\n",
       "      <td>0</td>\n",
       "      <td>0</td>\n",
       "    </tr>\n",
       "    <tr>\n",
       "      <th>3</th>\n",
       "      <td>0.03237</td>\n",
       "      <td>0.0</td>\n",
       "      <td>2.18</td>\n",
       "      <td>0.0</td>\n",
       "      <td>0.458</td>\n",
       "      <td>6.998</td>\n",
       "      <td>45.8</td>\n",
       "      <td>6.0622</td>\n",
       "      <td>18.7</td>\n",
       "      <td>394.63</td>\n",
       "      <td>2.94</td>\n",
       "      <td>1</td>\n",
       "      <td>0</td>\n",
       "      <td>0</td>\n",
       "      <td>0</td>\n",
       "      <td>1</td>\n",
       "      <td>0</td>\n",
       "      <td>0</td>\n",
       "      <td>0</td>\n",
       "      <td>0</td>\n",
       "    </tr>\n",
       "    <tr>\n",
       "      <th>4</th>\n",
       "      <td>0.06905</td>\n",
       "      <td>0.0</td>\n",
       "      <td>2.18</td>\n",
       "      <td>0.0</td>\n",
       "      <td>0.458</td>\n",
       "      <td>7.147</td>\n",
       "      <td>54.2</td>\n",
       "      <td>6.0622</td>\n",
       "      <td>18.7</td>\n",
       "      <td>396.90</td>\n",
       "      <td>5.33</td>\n",
       "      <td>1</td>\n",
       "      <td>0</td>\n",
       "      <td>0</td>\n",
       "      <td>0</td>\n",
       "      <td>1</td>\n",
       "      <td>0</td>\n",
       "      <td>0</td>\n",
       "      <td>0</td>\n",
       "      <td>0</td>\n",
       "    </tr>\n",
       "  </tbody>\n",
       "</table>\n",
       "</div>"
      ],
      "text/plain": [
       "      CRIM    ZN  INDUS  CHAS    NOX     RM   AGE     DIS  PTRATIO       B  \\\n",
       "0  0.00632  18.0   2.31   0.0  0.538  6.575  65.2  4.0900     15.3  396.90   \n",
       "1  0.02731   0.0   7.07   0.0  0.469  6.421  78.9  4.9671     17.8  396.90   \n",
       "2  0.02729   0.0   7.07   0.0  0.469  7.185  61.1  4.9671     17.8  392.83   \n",
       "3  0.03237   0.0   2.18   0.0  0.458  6.998  45.8  6.0622     18.7  394.63   \n",
       "4  0.06905   0.0   2.18   0.0  0.458  7.147  54.2  6.0622     18.7  396.90   \n",
       "\n",
       "   LSTAT  RAD_(0, 3]  RAD_(3, 4]  RAD_(4, 5]  RAD_(5, 24]  TAX_(0, 250]  \\\n",
       "0   4.98           1           0           0            0             0   \n",
       "1   9.14           1           0           0            0             1   \n",
       "2   4.03           1           0           0            0             1   \n",
       "3   2.94           1           0           0            0             1   \n",
       "4   5.33           1           0           0            0             1   \n",
       "\n",
       "   TAX_(250, 300]  TAX_(300, 360]  TAX_(360, 460]  TAX_(460, 712]  \n",
       "0               1               0               0               0  \n",
       "1               0               0               0               0  \n",
       "2               0               0               0               0  \n",
       "3               0               0               0               0  \n",
       "4               0               0               0               0  "
      ]
     },
     "execution_count": 2,
     "metadata": {},
     "output_type": "execute_result"
    }
   ],
   "source": [
    "boston_features.head()"
   ]
  },
  {
   "cell_type": "markdown",
   "metadata": {},
   "source": [
    "## Scatter matrix"
   ]
  },
  {
   "cell_type": "markdown",
   "metadata": {},
   "source": [
    "Create the scatter matrix for the Boston Housing data."
   ]
  },
  {
   "cell_type": "code",
   "execution_count": 3,
   "metadata": {},
   "outputs": [
    {
     "data": {
      "text/plain": [
       "array([[<matplotlib.axes._subplots.AxesSubplot object at 0x7f0c5701ae48>,\n",
       "        <matplotlib.axes._subplots.AxesSubplot object at 0x7f0c56acc0b8>,\n",
       "        <matplotlib.axes._subplots.AxesSubplot object at 0x7f0c56af6400>,\n",
       "        <matplotlib.axes._subplots.AxesSubplot object at 0x7f0c56a9d978>,\n",
       "        <matplotlib.axes._subplots.AxesSubplot object at 0x7f0c56a48ef0>,\n",
       "        <matplotlib.axes._subplots.AxesSubplot object at 0x7f0c56a764a8>,\n",
       "        <matplotlib.axes._subplots.AxesSubplot object at 0x7f0c56a1ca20>,\n",
       "        <matplotlib.axes._subplots.AxesSubplot object at 0x7f0c56a43fd0>,\n",
       "        <matplotlib.axes._subplots.AxesSubplot object at 0x7f0c569ce048>,\n",
       "        <matplotlib.axes._subplots.AxesSubplot object at 0x7f0c5699cac8>,\n",
       "        <matplotlib.axes._subplots.AxesSubplot object at 0x7f0c5694d080>],\n",
       "       [<matplotlib.axes._subplots.AxesSubplot object at 0x7f0c569745f8>,\n",
       "        <matplotlib.axes._subplots.AxesSubplot object at 0x7f0c5691cb70>,\n",
       "        <matplotlib.axes._subplots.AxesSubplot object at 0x7f0c568ce128>,\n",
       "        <matplotlib.axes._subplots.AxesSubplot object at 0x7f0c568f56a0>,\n",
       "        <matplotlib.axes._subplots.AxesSubplot object at 0x7f0c5689ac18>,\n",
       "        <matplotlib.axes._subplots.AxesSubplot object at 0x7f0c5684c1d0>,\n",
       "        <matplotlib.axes._subplots.AxesSubplot object at 0x7f0c56873748>,\n",
       "        <matplotlib.axes._subplots.AxesSubplot object at 0x7f0c5681acc0>,\n",
       "        <matplotlib.axes._subplots.AxesSubplot object at 0x7f0c567cc278>,\n",
       "        <matplotlib.axes._subplots.AxesSubplot object at 0x7f0c567f27f0>,\n",
       "        <matplotlib.axes._subplots.AxesSubplot object at 0x7f0c5679ad68>],\n",
       "       [<matplotlib.axes._subplots.AxesSubplot object at 0x7f0c5674a320>,\n",
       "        <matplotlib.axes._subplots.AxesSubplot object at 0x7f0c56770898>,\n",
       "        <matplotlib.axes._subplots.AxesSubplot object at 0x7f0c56718e10>,\n",
       "        <matplotlib.axes._subplots.AxesSubplot object at 0x7f0c566c83c8>,\n",
       "        <matplotlib.axes._subplots.AxesSubplot object at 0x7f0c566f0940>,\n",
       "        <matplotlib.axes._subplots.AxesSubplot object at 0x7f0c5669aeb8>,\n",
       "        <matplotlib.axes._subplots.AxesSubplot object at 0x7f0c56648470>,\n",
       "        <matplotlib.axes._subplots.AxesSubplot object at 0x7f0c5666f9e8>,\n",
       "        <matplotlib.axes._subplots.AxesSubplot object at 0x7f0c56618f60>,\n",
       "        <matplotlib.axes._subplots.AxesSubplot object at 0x7f0c565c7518>,\n",
       "        <matplotlib.axes._subplots.AxesSubplot object at 0x7f0c565efa90>],\n",
       "       [<matplotlib.axes._subplots.AxesSubplot object at 0x7f0c5659f048>,\n",
       "        <matplotlib.axes._subplots.AxesSubplot object at 0x7f0c565c55c0>,\n",
       "        <matplotlib.axes._subplots.AxesSubplot object at 0x7f0c5656eb38>,\n",
       "        <matplotlib.axes._subplots.AxesSubplot object at 0x7f0c5651f0f0>,\n",
       "        <matplotlib.axes._subplots.AxesSubplot object at 0x7f0c56546668>,\n",
       "        <matplotlib.axes._subplots.AxesSubplot object at 0x7f0c564edbe0>,\n",
       "        <matplotlib.axes._subplots.AxesSubplot object at 0x7f0c5649f198>,\n",
       "        <matplotlib.axes._subplots.AxesSubplot object at 0x7f0c564c5710>,\n",
       "        <matplotlib.axes._subplots.AxesSubplot object at 0x7f0c5646dc88>,\n",
       "        <matplotlib.axes._subplots.AxesSubplot object at 0x7f0c5641d240>,\n",
       "        <matplotlib.axes._subplots.AxesSubplot object at 0x7f0c564437b8>],\n",
       "       [<matplotlib.axes._subplots.AxesSubplot object at 0x7f0c563ecd30>,\n",
       "        <matplotlib.axes._subplots.AxesSubplot object at 0x7f0c5639d2e8>,\n",
       "        <matplotlib.axes._subplots.AxesSubplot object at 0x7f0c563c4860>,\n",
       "        <matplotlib.axes._subplots.AxesSubplot object at 0x7f0c5636bdd8>,\n",
       "        <matplotlib.axes._subplots.AxesSubplot object at 0x7f0c5631b390>,\n",
       "        <matplotlib.axes._subplots.AxesSubplot object at 0x7f0c56343908>,\n",
       "        <matplotlib.axes._subplots.AxesSubplot object at 0x7f0c562ece80>,\n",
       "        <matplotlib.axes._subplots.AxesSubplot object at 0x7f0c5629c438>,\n",
       "        <matplotlib.axes._subplots.AxesSubplot object at 0x7f0c562c29b0>,\n",
       "        <matplotlib.axes._subplots.AxesSubplot object at 0x7f0c56269f28>,\n",
       "        <matplotlib.axes._subplots.AxesSubplot object at 0x7f0c5621b4e0>],\n",
       "       [<matplotlib.axes._subplots.AxesSubplot object at 0x7f0c56240a58>,\n",
       "        <matplotlib.axes._subplots.AxesSubplot object at 0x7f0c561ebfd0>,\n",
       "        <matplotlib.axes._subplots.AxesSubplot object at 0x7f0c5619b588>,\n",
       "        <matplotlib.axes._subplots.AxesSubplot object at 0x7f0c561c2b00>,\n",
       "        <matplotlib.axes._subplots.AxesSubplot object at 0x7f0c561720b8>,\n",
       "        <matplotlib.axes._subplots.AxesSubplot object at 0x7f0c56119630>,\n",
       "        <matplotlib.axes._subplots.AxesSubplot object at 0x7f0c56140ba8>,\n",
       "        <matplotlib.axes._subplots.AxesSubplot object at 0x7f0c560f2160>,\n",
       "        <matplotlib.axes._subplots.AxesSubplot object at 0x7f0c5609a6d8>,\n",
       "        <matplotlib.axes._subplots.AxesSubplot object at 0x7f0c560c2c50>,\n",
       "        <matplotlib.axes._subplots.AxesSubplot object at 0x7f0c56072208>],\n",
       "       [<matplotlib.axes._subplots.AxesSubplot object at 0x7f0c56018780>,\n",
       "        <matplotlib.axes._subplots.AxesSubplot object at 0x7f0c5603fcf8>,\n",
       "        <matplotlib.axes._subplots.AxesSubplot object at 0x7f0c55ff12b0>,\n",
       "        <matplotlib.axes._subplots.AxesSubplot object at 0x7f0c55f97828>,\n",
       "        <matplotlib.axes._subplots.AxesSubplot object at 0x7f0c55fbeda0>,\n",
       "        <matplotlib.axes._subplots.AxesSubplot object at 0x7f0c55f70358>,\n",
       "        <matplotlib.axes._subplots.AxesSubplot object at 0x7f0c55f168d0>,\n",
       "        <matplotlib.axes._subplots.AxesSubplot object at 0x7f0c55f3ee48>,\n",
       "        <matplotlib.axes._subplots.AxesSubplot object at 0x7f0c55eee400>,\n",
       "        <matplotlib.axes._subplots.AxesSubplot object at 0x7f0c55e95978>,\n",
       "        <matplotlib.axes._subplots.AxesSubplot object at 0x7f0c55ebdef0>],\n",
       "       [<matplotlib.axes._subplots.AxesSubplot object at 0x7f0c55e6e4a8>,\n",
       "        <matplotlib.axes._subplots.AxesSubplot object at 0x7f0c55e14a20>,\n",
       "        <matplotlib.axes._subplots.AxesSubplot object at 0x7f0c55e3bf98>,\n",
       "        <matplotlib.axes._subplots.AxesSubplot object at 0x7f0c55deb550>,\n",
       "        <matplotlib.axes._subplots.AxesSubplot object at 0x7f0c55d95ac8>,\n",
       "        <matplotlib.axes._subplots.AxesSubplot object at 0x7f0c55dc5080>,\n",
       "        <matplotlib.axes._subplots.AxesSubplot object at 0x7f0c55d6d5f8>,\n",
       "        <matplotlib.axes._subplots.AxesSubplot object at 0x7f0c55d14b70>,\n",
       "        <matplotlib.axes._subplots.AxesSubplot object at 0x7f0c55d44128>,\n",
       "        <matplotlib.axes._subplots.AxesSubplot object at 0x7f0c55cec6a0>,\n",
       "        <matplotlib.axes._subplots.AxesSubplot object at 0x7f0c55c92c18>],\n",
       "       [<matplotlib.axes._subplots.AxesSubplot object at 0x7f0c55cc41d0>,\n",
       "        <matplotlib.axes._subplots.AxesSubplot object at 0x7f0c55c6a748>,\n",
       "        <matplotlib.axes._subplots.AxesSubplot object at 0x7f0c55c13cc0>,\n",
       "        <matplotlib.axes._subplots.AxesSubplot object at 0x7f0c55c41278>,\n",
       "        <matplotlib.axes._subplots.AxesSubplot object at 0x7f0c55be87f0>,\n",
       "        <matplotlib.axes._subplots.AxesSubplot object at 0x7f0c55b93d68>,\n",
       "        <matplotlib.axes._subplots.AxesSubplot object at 0x7f0c55bc1320>,\n",
       "        <matplotlib.axes._subplots.AxesSubplot object at 0x7f0c55b68898>,\n",
       "        <matplotlib.axes._subplots.AxesSubplot object at 0x7f0c55b11e10>,\n",
       "        <matplotlib.axes._subplots.AxesSubplot object at 0x7f0c55b403c8>,\n",
       "        <matplotlib.axes._subplots.AxesSubplot object at 0x7f0c55ae6940>],\n",
       "       [<matplotlib.axes._subplots.AxesSubplot object at 0x7f0c55a8feb8>,\n",
       "        <matplotlib.axes._subplots.AxesSubplot object at 0x7f0c55ac0470>,\n",
       "        <matplotlib.axes._subplots.AxesSubplot object at 0x7f0c55a689e8>,\n",
       "        <matplotlib.axes._subplots.AxesSubplot object at 0x7f0c55a0ff60>,\n",
       "        <matplotlib.axes._subplots.AxesSubplot object at 0x7f0c55a3f518>,\n",
       "        <matplotlib.axes._subplots.AxesSubplot object at 0x7f0c559e7a90>,\n",
       "        <matplotlib.axes._subplots.AxesSubplot object at 0x7f0c55998048>,\n",
       "        <matplotlib.axes._subplots.AxesSubplot object at 0x7f0c559be5c0>,\n",
       "        <matplotlib.axes._subplots.AxesSubplot object at 0x7f0c55965b38>,\n",
       "        <matplotlib.axes._subplots.AxesSubplot object at 0x7f0c559180f0>,\n",
       "        <matplotlib.axes._subplots.AxesSubplot object at 0x7f0c5593e668>],\n",
       "       [<matplotlib.axes._subplots.AxesSubplot object at 0x7f0c558e5be0>,\n",
       "        <matplotlib.axes._subplots.AxesSubplot object at 0x7f0c55895198>,\n",
       "        <matplotlib.axes._subplots.AxesSubplot object at 0x7f0c558bd710>,\n",
       "        <matplotlib.axes._subplots.AxesSubplot object at 0x7f0c55864c88>,\n",
       "        <matplotlib.axes._subplots.AxesSubplot object at 0x7f0c55816240>,\n",
       "        <matplotlib.axes._subplots.AxesSubplot object at 0x7f0c5583c7b8>,\n",
       "        <matplotlib.axes._subplots.AxesSubplot object at 0x7f0c557e3d30>,\n",
       "        <matplotlib.axes._subplots.AxesSubplot object at 0x7f0c557952e8>,\n",
       "        <matplotlib.axes._subplots.AxesSubplot object at 0x7f0c557ba860>,\n",
       "        <matplotlib.axes._subplots.AxesSubplot object at 0x7f0c55762dd8>,\n",
       "        <matplotlib.axes._subplots.AxesSubplot object at 0x7f0c55713390>]],\n",
       "      dtype=object)"
      ]
     },
     "execution_count": 3,
     "metadata": {},
     "output_type": "execute_result"
    }
   ],
   "source": [
    "boston_cont = boston_features.iloc[:,0:11]\n",
    "pd.plotting.scatter_matrix(boston_cont,figsize  = [11, 11])\n",
    "plt.show()"
   ]
  },
  {
   "cell_type": "markdown",
   "metadata": {},
   "source": [
    "This took a while to load. Not surprisingly, the categorical variables didn't really provide any meaningful result. remove the categorical columns associated with \"RAD\" and \"TAX\" from the data again and look at the scatter matrix again."
   ]
  },
  {
   "cell_type": "code",
   "execution_count": null,
   "metadata": {},
   "outputs": [],
   "source": []
  },
  {
   "cell_type": "code",
   "execution_count": null,
   "metadata": {},
   "outputs": [],
   "source": []
  },
  {
   "cell_type": "markdown",
   "metadata": {},
   "source": [
    "## Correlation matrix"
   ]
  },
  {
   "cell_type": "markdown",
   "metadata": {},
   "source": [
    "Next, let's look at the correlation matrix"
   ]
  },
  {
   "cell_type": "code",
   "execution_count": null,
   "metadata": {},
   "outputs": [],
   "source": []
  },
  {
   "cell_type": "markdown",
   "metadata": {},
   "source": [
    "Return \"True\" for positive or negative correlations that are bigger than 0.75."
   ]
  },
  {
   "cell_type": "code",
   "execution_count": null,
   "metadata": {},
   "outputs": [],
   "source": []
  },
  {
   "cell_type": "markdown",
   "metadata": {},
   "source": [
    "Remove the most problematic feature from the data."
   ]
  },
  {
   "cell_type": "code",
   "execution_count": null,
   "metadata": {},
   "outputs": [],
   "source": []
  },
  {
   "cell_type": "markdown",
   "metadata": {},
   "source": [
    "## Summary\n",
    "Good job! You've now edited the Boston Housing Data so highly correlated variables are removed. "
   ]
  }
 ],
 "metadata": {
  "kernelspec": {
   "display_name": "Python 3",
   "language": "python",
   "name": "python3"
  },
  "language_info": {
   "codemirror_mode": {
    "name": "ipython",
    "version": 3
   },
   "file_extension": ".py",
   "mimetype": "text/x-python",
   "name": "python",
   "nbconvert_exporter": "python",
   "pygments_lexer": "ipython3",
   "version": "3.6.6"
  }
 },
 "nbformat": 4,
 "nbformat_minor": 2
}
